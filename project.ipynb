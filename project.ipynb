{
 "cells": [
  {
   "cell_type": "markdown",
   "metadata": {},
   "source": [
    "# CSCI-537 Final Project\n",
    "# CAPTCHA Solver\n",
    "### Fall 2021\n",
    "### Hayden Sather, Jake Pinkston"
   ]
  },
  {
   "cell_type": "markdown",
   "metadata": {},
   "source": [
    "#### Dependencies\n",
    "pip3 install idx2numpy  \n",
    "pip3 install python-mnist"
   ]
  },
  {
   "cell_type": "code",
   "execution_count": 1,
   "metadata": {},
   "outputs": [],
   "source": [
    "import cv2\n",
    "import matplotlib.pyplot as plt\n",
    "import numpy as np\n",
    "from tensorflow.keras import layers\n",
    "from tensorflow import keras\n",
    "import string\n",
    "\n",
    "import emnist"
   ]
  },
  {
   "cell_type": "code",
   "execution_count": 2,
   "metadata": {},
   "outputs": [
    {
     "name": "stdout",
     "output_type": "stream",
     "text": [
      "['0', '1', '2', '3', '4', '5', '6', '7', '8', '9', 'a', 'b', 'c', 'd', 'e', 'f', 'g', 'h', 'i', 'j', 'k', 'l', 'm', 'n', 'o', 'p', 'q', 'r', 's', 't', 'u', 'v', 'w', 'x', 'y', 'z']\n"
     ]
    }
   ],
   "source": [
    "test = [str(x) for x in range(10)] + list(string.ascii_lowercase)\n",
    "print(test)"
   ]
  },
  {
   "cell_type": "code",
   "execution_count": 3,
   "metadata": {},
   "outputs": [],
   "source": [
    "# Load emnist data\n",
    "train_X, train_y = emnist.extract_training_samples(\"bymerge\")\n",
    "test_X, test_y = emnist.extract_test_samples(\"bymerge\")\n",
    "\n",
    "num_classes = 47\n",
    "\n",
    "train_X = train_X.astype(\"float32\") / 255\n",
    "train_X = np.expand_dims(train_X, -1)\n",
    "test_X = test_X.astype(\"float32\") / 255\n",
    "test_X = np.expand_dims(test_X, -1)\n",
    "\n",
    "train_y = keras.utils.to_categorical(train_y, num_classes)\n",
    "test_y = keras.utils.to_categorical(test_y, num_classes)"
   ]
  },
  {
   "cell_type": "code",
   "execution_count": 4,
   "metadata": {},
   "outputs": [
    {
     "data": {
      "image/png": "[encoded data removed]",
      "text/plain": [
       "<Figure size 432x288 with 1 Axes>"
      ]
     },
     "metadata": {
      "needs_background": "light"
     },
     "output_type": "display_data"
    },
    {
     "name": "stdout",
     "output_type": "stream",
     "text": [
      "[0. 0. 0. 0. 0. 0. 0. 0. 0. 0. 0. 0. 0. 0. 0. 0. 0. 0. 0. 0. 0. 0. 0. 0.\n",
      " 0. 0. 0. 0. 0. 0. 0. 0. 0. 0. 0. 0. 1. 0. 0. 0. 0. 0. 0. 0. 0. 0. 0.]\n"
     ]
    },
    {
     "data": {
      "text/plain": [
       "36"
      ]
     },
     "execution_count": 4,
     "metadata": {},
     "output_type": "execute_result"
    }
   ],
   "source": [
    "# TODO: Create an algorithm to decode from int to char value.\n",
    "\n",
    "# Show image\n",
    "img_num = 1\n",
    "image = train_X[img_num]\n",
    "plt.imshow(image, cmap=plt.get_cmap('gray'))\n",
    "plt.show()\n",
    "print(train_y[img_num])\n",
    "np.nonzero(train_y[img_num])[0][0]\n"
   ]
  },
  {
   "cell_type": "code",
   "execution_count": 9,
   "metadata": {},
   "outputs": [],
   "source": [
    "def get_model(retrain=False):\n",
    "    if not retrain:\n",
    "        return keras.models.load_model(\"model.keras\")\n",
    "\n",
    "    input_shape = (28, 28, 1)\n",
    "\n",
    "    model = keras.Sequential([keras.Input(shape=input_shape),\n",
    "                            layers.Conv2D(32, kernel_size=(3, 3), activation=\"relu\"),\n",
    "                            layers.MaxPooling2D(pool_size=(2, 2)),\n",
    "                            layers.Conv2D(64, kernel_size=(3, 3), activation=\"relu\"),\n",
    "                            layers.MaxPooling2D(pool_size=(2, 2)),\n",
    "                            layers.Flatten(),\n",
    "                            layers.Dropout(0.5),\n",
    "                            layers.Dense(num_classes, activation=\"softmax\")])\n",
    "                            \n",
    "    batch_size = 128\n",
    "    epochs = 15\n",
    "    model.compile(loss=\"categorical_crossentropy\", optimizer=\"adam\", metrics=[\"accuracy\"])\n",
    "\n",
    "    history = model.fit(train_X, train_y, batch_size=batch_size, epochs=epochs, validation_split=0.1)\n",
    "\n",
    "    model.save(\"model.keras\")\n",
    "\n",
    "    return model\n",
    "\n",
    "\n",
    "model = get_model()\n",
    "\n",
    "\n"
   ]
  },
  {
   "cell_type": "code",
   "execution_count": 14,
   "metadata": {},
   "outputs": [
    {
     "name": "stdout",
     "output_type": "stream",
     "text": [
      "0 22\n",
      "22 28\n",
      "28 0\n"
     ]
    }
   ],
   "source": [
    "\n",
    "for img_num in range(1, 4):\n",
    "    prediction = model.predict(test_X[img_num - 1 : img_num])\n",
    "    print(np.argmax(prediction), np.argmax(test_y[img_num]))"
   ]
  },
  {
   "cell_type": "code",
   "execution_count": null,
   "metadata": {},
   "outputs": [],
   "source": [
    "img = cv2.imread(\"samples/2b827.png\")\n",
    "plt.imshow(img)\n"
   ]
  }
 ],
 "metadata": {
  "interpreter": {
   "hash": "916dbcbb3f70747c44a77c7bcd40155683ae19c65e1c03b4aa3499c5328201f1"
  },
  "kernelspec": {
   "display_name": "Python 3.9.5 64-bit",
   "language": "python",
   "name": "python3"
  },
  "language_info": {
   "codemirror_mode": {
    "name": "ipython",
    "version": 3
   },
   "file_extension": ".py",
   "mimetype": "text/x-python",
   "name": "python",
   "nbconvert_exporter": "python",
   "pygments_lexer": "ipython3",
   "version": "3.9.5"
  },
  "orig_nbformat": 4
 },
 "nbformat": 4,
 "nbformat_minor": 2
}
