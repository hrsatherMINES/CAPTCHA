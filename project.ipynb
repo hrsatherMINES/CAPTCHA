{
 "cells": [
  {
   "cell_type": "markdown",
   "metadata": {},
   "source": [
    "# CSCI-537 Final Project\n",
    "# CAPTCHA Solver\n",
    "### Fall 2021\n",
    "### Hayden Sather, Jake Pinkston"
   ]
  },
  {
   "cell_type": "markdown",
   "metadata": {},
   "source": [
    "### TO RUN: Extract the hard_data and easy_data directories to the project directory"
   ]
  },
  {
   "cell_type": "code",
   "execution_count": 1,
   "metadata": {},
   "outputs": [],
   "source": [
    "import os\n",
    "\n",
    "import cv2\n",
    "import matplotlib.pyplot as plt\n",
    "import numpy as np\n",
    "\n",
    "import global_params as gp\n",
    "import helper_funcs as hf"
   ]
  },
  {
   "cell_type": "code",
   "execution_count": 2,
   "metadata": {},
   "outputs": [
    {
     "name": "stderr",
     "output_type": "stream",
     "text": [
      "2021-12-05 23:38:05.185999: I tensorflow/stream_executor/cuda/cuda_gpu_executor.cc:939] successful NUMA node read from SysFS had negative value (-1), but there must be at least one NUMA node, so returning NUMA node zero\n",
      "2021-12-05 23:38:05.189745: W tensorflow/stream_executor/platform/default/dso_loader.cc:64] Could not load dynamic library 'libcudnn.so.8'; dlerror: libcudnn.so.8: cannot open shared object file: No such file or directory\n",
      "2021-12-05 23:38:05.189760: W tensorflow/core/common_runtime/gpu/gpu_device.cc:1850] Cannot dlopen some GPU libraries. Please make sure the missing libraries mentioned above are installed properly if you would like to use GPU. Follow the guide at https://www.tensorflow.org/install/gpu for how to download and setup the required libraries for your platform.\n",
      "Skipping registering GPU devices...\n",
      "2021-12-05 23:38:05.189998: I tensorflow/core/platform/cpu_feature_guard.cc:151] This TensorFlow binary is optimized with oneAPI Deep Neural Network Library (oneDNN) to use the following CPU instructions in performance-critical operations:  AVX2 FMA\n",
      "To enable them in other operations, rebuild TensorFlow with the appropriate compiler flags.\n"
     ]
    }
   ],
   "source": [
    "model = hf.get_model(retrain=False)"
   ]
  },
  {
   "cell_type": "code",
   "execution_count": 3,
   "metadata": {},
   "outputs": [
    {
     "name": "stdout",
     "output_type": "stream",
     "text": [
      "Total Percent Correct: 73.43393277268503\n",
      "\n"
     ]
    }
   ],
   "source": [
    "\n",
    "\n",
    "def read_captcha(img):\n",
    "    img = hf.process_captcha(img)\n",
    "\n",
    "    # Find connected components\n",
    "    num_components, _, stats, centroids = cv2.connectedComponentsWithStats(img, 1, cv2.CV_8U)\n",
    "    #This section gets rid of small component areas\n",
    "    temp_components = 0\n",
    "    temp_centroids = []\n",
    "    for i in range(len(stats)):\n",
    "        if stats[i][4] > gp.MIN_AREA:\n",
    "            temp_components +=1\n",
    "            temp_centroids.append(centroids[i])\n",
    "    centroids = temp_centroids\n",
    "    num_components = temp_components\n",
    "\n",
    "    # Normalize\n",
    "    img = img / 255\n",
    "    img[img >= gp.PIXEL_THRESH] = 1\n",
    "    img[img < gp.PIXEL_THRESH] = 0\n",
    "\n",
    "    # plt.imshow(img_thresh, cmap=plt.get_cmap('gray'))\n",
    "    # plt.show()\n",
    "   \n",
    "    # Comment once you want this to run fast\n",
    "    # plt.imshow(img, cmap=plt.get_cmap('gray'))\n",
    "    # plt.show()\n",
    "\n",
    "    x_loc_list = []\n",
    "    prediction_list = []\n",
    "    for i in range(1, num_components):\n",
    "        centroid = centroids[i]\n",
    "\n",
    "        cropped_image = hf.crop_image(img, centroid)\n",
    "       \n",
    "        prediction = hf.img_to_prediction(cropped_image, model, verbose=False)\n",
    "        if prediction is None:  # One of the images is messed up\n",
    "            continue\n",
    "\n",
    "        # Uncomment to show each individual cropped image\n",
    "        # plt.imshow(cropped_image, cmap=plt.get_cmap('gray'))\n",
    "        # plt.show()\n",
    "\n",
    "        x_loc_list.append(centroid[0])\n",
    "        prediction_list.append(prediction)\n",
    "\n",
    "        prediction = hf.sort_preds(x_loc_list, prediction_list)\n",
    "\n",
    "    return prediction\n",
    "\n",
    "all_correct = []\n",
    "all_wrong = []\n",
    "agg_correct = 0\n",
    "num_total = 0\n",
    "for filename in os.listdir(\"easy_data\"):\n",
    "    img_path = os.path.join(\"easy_data\", filename)\n",
    "    img = cv2.imread(img_path)\n",
    "\n",
    "    true_captcha = filename[:-4]\n",
    "    true_captcha = hf.transform_string(true_captcha)\n",
    "   \n",
    "    predicted_captcha = read_captcha(img)\n",
    "    if predicted_captcha is None:\n",
    "        continue\n",
    "    predicted_captcha = hf.transform_string(predicted_captcha)\n",
    "   \n",
    "    percent_correct = hf.similar(true_captcha, predicted_captcha)\n",
    "\n",
    "    if percent_correct == 100:\n",
    "        all_correct.append(img)\n",
    "    if percent_correct == 0:\n",
    "        all_wrong.append(img)\n",
    "\n",
    "    agg_correct += percent_correct\n",
    "    num_total += 1\n",
    "\n",
    "print(f\"Total Percent Correct: {agg_correct / num_total}\\n\")"
   ]
  },
  {
   "cell_type": "code",
   "execution_count": 16,
   "metadata": {},
   "outputs": [
    {
     "data": {
      "image/png": "[encoded data removed]",
      "text/plain": [
       "<Figure size 432x288 with 1 Axes>"
      ]
     },
     "metadata": {
      "needs_background": "light"
     },
     "output_type": "display_data"
    },
    {
     "data": {
      "text/plain": [
       "79"
      ]
     },
     "execution_count": 16,
     "metadata": {},
     "output_type": "execute_result"
    }
   ],
   "source": [
    "samples = np.random.binomial(9, 0.74, 1000)\n",
    "plt.hist(samples, bins=9)\n",
    "plt.title(\"Histogram for number of correct characters\")\n",
    "plt.show()\n",
    "\n",
    "len(samples[samples == 9])"
   ]
  }
 ],
 "metadata": {
  "interpreter": {
   "hash": "5687eb4c5993a2ebab9ac0d0e6c1a5be486852754f8fdfeb3406d1c07a95f39d"
  },
  "kernelspec": {
   "display_name": "Python 3.8.11 64-bit ('MV_hw0': conda)",
   "name": "python3"
  },
  "language_info": {
   "codemirror_mode": {
    "name": "ipython",
    "version": 3
   },
   "file_extension": ".py",
   "mimetype": "text/x-python",
   "name": "python",
   "nbconvert_exporter": "python",
   "pygments_lexer": "ipython3",
   "version": "3.9.5"
  },
  "orig_nbformat": 4
 },
 "nbformat": 4,
 "nbformat_minor": 2
}
