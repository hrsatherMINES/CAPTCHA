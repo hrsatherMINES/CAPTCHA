{
 "cells": [
  {
   "cell_type": "markdown",
   "metadata": {},
   "source": [
    "# CSCI-537 Final Project\n",
    "# CAPTCHA Solver\n",
    "### Fall 2021\n",
    "### Hayden Sather, Jake Pinkston"
   ]
  },
  {
   "cell_type": "markdown",
   "metadata": {},
   "source": [
    "### TO RUN: Extract the data directory to the project directory"
   ]
  },
  {
   "cell_type": "code",
   "execution_count": 1,
   "metadata": {},
   "outputs": [],
   "source": [
    "import os\n",
    "\n",
    "import cv2\n",
    "import matplotlib.pyplot as plt\n",
    "import numpy as np\n",
    "\n",
    "import global_params as gp\n",
    "import helper_funcs as hf"
   ]
  },
  {
   "cell_type": "code",
   "execution_count": 2,
   "metadata": {},
   "outputs": [
    {
     "name": "stderr",
     "output_type": "stream",
     "text": [
      "2021-12-10 18:37:26.190212: I tensorflow/stream_executor/cuda/cuda_gpu_executor.cc:939] successful NUMA node read from SysFS had negative value (-1), but there must be at least one NUMA node, so returning NUMA node zero\n",
      "2021-12-10 18:37:26.237783: W tensorflow/stream_executor/platform/default/dso_loader.cc:64] Could not load dynamic library 'libcudnn.so.8'; dlerror: libcudnn.so.8: cannot open shared object file: No such file or directory\n",
      "2021-12-10 18:37:26.237800: W tensorflow/core/common_runtime/gpu/gpu_device.cc:1850] Cannot dlopen some GPU libraries. Please make sure the missing libraries mentioned above are installed properly if you would like to use GPU. Follow the guide at https://www.tensorflow.org/install/gpu for how to download and setup the required libraries for your platform.\n",
      "Skipping registering GPU devices...\n",
      "2021-12-10 18:37:26.238270: I tensorflow/core/platform/cpu_feature_guard.cc:151] This TensorFlow binary is optimized with oneAPI Deep Neural Network Library (oneDNN) to use the following CPU instructions in performance-critical operations:  AVX2 FMA\n",
      "To enable them in other operations, rebuild TensorFlow with the appropriate compiler flags.\n"
     ]
    }
   ],
   "source": [
    "model = hf.get_model(retrain=False)"
   ]
  },
  {
   "cell_type": "markdown",
   "metadata": {},
   "source": [
    "# Run all CAPTCHA images"
   ]
  },
  {
   "cell_type": "code",
   "execution_count": 34,
   "metadata": {},
   "outputs": [
    {
     "name": "stdout",
     "output_type": "stream",
     "text": [
      "Total Percent Correct: 73.43393277268503\n",
      "\n"
     ]
    }
   ],
   "source": [
    "\n",
    "run_all = False\n",
    "if run_all:\n",
    "    all_correct = []\n",
    "    all_wrong = []\n",
    "    agg_correct = 0\n",
    "    num_total = 0\n",
    "    correct_dict = {}\n",
    "    wrong_dict = {}\n",
    "    for filename in os.listdir(\"data\"):\n",
    "        img_path = os.path.join(\"data\", filename)\n",
    "        img = cv2.imread(img_path)\n",
    "\n",
    "        true_captcha = filename[:-4]\n",
    "        true_captcha = hf.transform_string(true_captcha)\n",
    "    \n",
    "        predicted_captcha = hf.read_captcha(img, model)\n",
    "        if predicted_captcha is None:\n",
    "            continue\n",
    "        predicted_captcha = hf.transform_string(predicted_captcha)\n",
    "    \n",
    "        percent_correct = hf.similar(true_captcha, predicted_captcha)\n",
    "\n",
    "        if percent_correct == 100:\n",
    "            all_correct.append(img)\n",
    "        if percent_correct == 0:\n",
    "            all_wrong.append(img)\n",
    "\n",
    "        for correct_char, predicted_char in zip(true_captcha, predicted_captcha):\n",
    "            if correct_char == predicted_char:\n",
    "                if correct_char in correct_dict:\n",
    "                    correct_dict[correct_char] += 1\n",
    "                else:\n",
    "                    correct_dict[correct_char] = 1\n",
    "            else:\n",
    "                if correct_char in wrong_dict:\n",
    "                    wrong_dict[correct_char] += 1\n",
    "                else:\n",
    "                    wrong_dict[correct_char] = 1\n",
    "\n",
    "        agg_correct += percent_correct\n",
    "        num_total += 1\n",
    "\n",
    "    print(f\"Total Percent Correct: {agg_correct / num_total}\\n\")"
   ]
  },
  {
   "cell_type": "markdown",
   "metadata": {},
   "source": [
    "# Find accuracies and false positives of characters"
   ]
  },
  {
   "cell_type": "code",
   "execution_count": 65,
   "metadata": {},
   "outputs": [
    {
     "data": {
      "image/png": "[encoded data removed]",
      "text/plain": [
       "<Figure size 432x288 with 1 Axes>"
      ]
     },
     "metadata": {
      "needs_background": "light"
     },
     "output_type": "display_data"
    },
    {
     "data": {
      "image/png": "[encoded data removed]",
      "text/plain": [
       "<Figure size 432x288 with 1 Axes>"
      ]
     },
     "metadata": {
      "needs_background": "light"
     },
     "output_type": "display_data"
    }
   ],
   "source": [
    "calc_accuracies = False\n",
    "if calc_accuracies:\n",
    "    counts_dict = {}\n",
    "    for char in set(gp.CHAR_MAPPING.values()):\n",
    "        counts_dict[char] = list(gp.CHAR_MAPPING.values()).count(char)\n",
    "\n",
    "    def plot_dict(dictionary, title, norm=True):\n",
    "        for key in dictionary:\n",
    "            if key in counts_dict:\n",
    "                dictionary[key] /= (counts_dict[char] + 1)\n",
    "\n",
    "        chars = list(dictionary.keys())\n",
    "        counts = list(dictionary.values())\n",
    "\n",
    "        zipped_lists = zip(counts, chars)\n",
    "        sorted_pairs = sorted(zipped_lists, reverse=True)\n",
    "\n",
    "        sorted_pairs = zip(*sorted_pairs)\n",
    "        counts, chars = (list(pair) for pair in sorted_pairs)\n",
    "\n",
    "        counts = np.array(counts)\n",
    "        # Normalize for counts\n",
    "        if norm:\n",
    "            counts = counts / (num_total * 9 / (26 + 10))\n",
    "\n",
    "        num_accuracies = 15\n",
    "        plt.bar(chars[:num_accuracies], counts[:num_accuracies])\n",
    "        plt.title(title)\n",
    "        plt.show()\n",
    "\n",
    "    plot_dict(correct_dict, \"Accuracies of characters with the most correct values\")\n",
    "    plot_dict(wrong_dict, \"Most false positives\", False)"
   ]
  }
 ],
 "metadata": {
  "interpreter": {
   "hash": "5687eb4c5993a2ebab9ac0d0e6c1a5be486852754f8fdfeb3406d1c07a95f39d"
  },
  "kernelspec": {
   "display_name": "Python 3.8.11 64-bit ('MV_hw0': conda)",
   "name": "python3"
  },
  "language_info": {
   "codemirror_mode": {
    "name": "ipython",
    "version": 3
   },
   "file_extension": ".py",
   "mimetype": "text/x-python",
   "name": "python",
   "nbconvert_exporter": "python",
   "pygments_lexer": "ipython3",
   "version": "3.9.5"
  },
  "orig_nbformat": 4
 },
 "nbformat": 4,
 "nbformat_minor": 2
}
